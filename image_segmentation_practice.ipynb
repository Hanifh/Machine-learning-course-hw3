{
 "cells": [
  {
   "cell_type": "code",
   "execution_count": 2,
   "metadata": {},
   "outputs": [
    {
     "name": "stdout",
     "output_type": "stream",
     "text": [
      "12 15 12\n"
     ]
    }
   ],
   "source": [
    "import numpy as np\n",
    "import cv2\n",
    "from matplotlib import pyplot as plt\n",
    "\n",
    "img = cv2.imread('im.png')\n",
    "gray = cv2.cvtColor(img,cv2.COLOR_BGR2GRAY)\n",
    "ret, thresh = cv2.threshold(gray,0,255,cv2.THRESH_BINARY_INV+cv2.THRESH_OTSU)\n",
    "\n",
    "# noise removal\n",
    "kernel = np.ones((3,3),np.uint8)\n",
    "opening = cv2.morphologyEx(thresh,cv2.MORPH_OPEN,kernel, iterations = 2)\n",
    "ret,thresh = cv2.threshold(opening,127,255,0)\n",
    "\n",
    "_,contours,hierarchy = cv2.findContours(thresh, 1, 2)\n",
    "\n",
    "\n",
    "cnt1 = contours[0]\n",
    "cnt2 = contours[1]\n",
    "cnt3 = contours[2]\n",
    "M1 = cv2.moments(cnt1)\n",
    "M2 = cv2.moments(cnt2)\n",
    "M3 = cv2.moments(cnt3)\n",
    "\n",
    "cx1 = int(M1['m10']/M1['m00'])\n",
    "cy1 = int(M1['m01']/M1['m00'])\n",
    "\n",
    "cx2 = int(M2['m10']/M2['m00'])\n",
    "cy2 = int(M2['m01']/M2['m00'])\n",
    "\n",
    "cx3 = int(M3['m10']/M3['m00'])\n",
    "cy3 = int(M3['m01']/M3['m00'])\n",
    "\n",
    "area1 = cv2.contourArea(cnt1)\n",
    "area2 = cv2.contourArea(cnt2)\n",
    "area3 = cv2.contourArea(cnt3)\n",
    "print(round(area1*100/thresh.size), round(area2*100/thresh.size), round(area3*100/thresh.size))\n"
   ]
  },
  {
   "cell_type": "code",
   "execution_count": null,
   "metadata": {},
   "outputs": [],
   "source": []
  },
  {
   "cell_type": "code",
   "execution_count": null,
   "metadata": {},
   "outputs": [],
   "source": []
  }
 ],
 "metadata": {
  "kernelspec": {
   "display_name": "Python 3",
   "language": "python",
   "name": "python3"
  },
  "language_info": {
   "codemirror_mode": {
    "name": "ipython",
    "version": 3
   },
   "file_extension": ".py",
   "mimetype": "text/x-python",
   "name": "python",
   "nbconvert_exporter": "python",
   "pygments_lexer": "ipython3",
   "version": "3.7.1"
  }
 },
 "nbformat": 4,
 "nbformat_minor": 2
}
